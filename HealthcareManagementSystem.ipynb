{
  "nbformat": 4,
  "nbformat_minor": 0,
  "metadata": {
    "colab": {
      "provenance": []
    },
    "kernelspec": {
      "name": "python3",
      "display_name": "Python 3"
    },
    "language_info": {
      "name": "python"
    }
  },
  "cells": [
    {
      "cell_type": "code",
      "execution_count": 1,
      "metadata": {
        "id": "KgboXwhbK--n"
      },
      "outputs": [],
      "source": [
        "import random\n",
        "import pandas as pd\n",
        "\n",
        "# Function to generate random patient profiles\n",
        "def generate_patient_profiles(num_patients=10000):\n",
        "    profiles = []\n",
        "    for i in range(num_patients):\n",
        "        name = f\"Patient_{i+1}\"\n",
        "        age = random.randint(18, 80)\n",
        "        gender = random.choice(['Male', 'Female'])\n",
        "        bp = random.uniform(80, 120), random.uniform(50, 80)\n",
        "        sugar_level = random.uniform(70, 140)\n",
        "        cholesterol = random.uniform(125, 200)\n",
        "        haemoglobin = random.uniform(12, 18)\n",
        "        profiles.append({\n",
        "            'Name': name,\n",
        "            'Age': age,\n",
        "            'Gender': gender,\n",
        "            'BP': bp,\n",
        "            'Sugar Level': sugar_level,\n",
        "            'Cholesterol': cholesterol,\n",
        "            'Haemoglobin': haemoglobin\n",
        "        })\n",
        "    return profiles\n",
        "\n",
        "# Generate profiles\n",
        "profiles = generate_patient_profiles()\n",
        "\n",
        "# Convert to DataFrame\n",
        "df = pd.DataFrame(profiles)\n",
        "\n",
        "# Save to CSV\n",
        "df.to_csv('patient_profiles.csv', index=False)"
      ]
    },
    {
      "cell_type": "code",
      "source": [
        "from pyspark.sql import SparkSession\n",
        "\n",
        "# Create a Spark session\n",
        "spark = SparkSession.builder.appName(\"HealthMonitoring\").getOrCreate()\n",
        "\n",
        "# Load the CSV file into a Spark DataFrame\n",
        "df = spark.read.csv('patient_profiles.csv', header=True, inferSchema=True)\n",
        "\n",
        "# Show the DataFrame\n",
        "df.show()\n",
        "\n",
        "# Basic analysis using Spark SQL\n",
        "df.createOrReplaceTempView(\"patients\")\n",
        "\n",
        "# Example: Average sugar level\n",
        "average_sugar_level = spark.sql(\"SELECT AVG(`Sugar Level`) AS avg_sugar_level FROM patients\")\n",
        "average_sugar_level.show()\n",
        "\n",
        "# Example: Average cholesterol level\n",
        "average_cholesterol_level = spark.sql(\"SELECT AVG(Cholesterol) AS avg_cholesterol_level FROM patients\")\n",
        "average_cholesterol_level.show()\n",
        "\n",
        "# Example: Average haemoglobin level\n",
        "average_haemoglobin_level = spark.sql(\"SELECT AVG(Haemoglobin) AS avg_haemoglobin_level FROM patients\")\n",
        "average_haemoglobin_level.show()"
      ],
      "metadata": {
        "colab": {
          "base_uri": "https://localhost:8080/"
        },
        "id": "ZaEI2uf7LCdx",
        "outputId": "1200bf52-6eb2-4f91-c696-11c922a921f3"
      },
      "execution_count": 2,
      "outputs": [
        {
          "output_type": "stream",
          "name": "stdout",
          "text": [
            "+----------+---+------+--------------------+------------------+------------------+------------------+\n",
            "|      Name|Age|Gender|                  BP|       Sugar Level|       Cholesterol|       Haemoglobin|\n",
            "+----------+---+------+--------------------+------------------+------------------+------------------+\n",
            "| Patient_1| 36|Female|(113.529091650890...| 78.37021696676622|141.98031029155828| 17.58658736642242|\n",
            "| Patient_2| 36|  Male|(99.4209607637263...| 79.45262325539666|161.48250288775625|13.176176586634828|\n",
            "| Patient_3| 59|Female|(89.5116431492371...|115.30995213321907|184.16471411922575|14.180600245125646|\n",
            "| Patient_4| 19|  Male|(84.2954191430270...| 70.93777296616305|154.59721595426066|15.576670987239979|\n",
            "| Patient_5| 59|  Male|(82.7866797505711...|104.93765144269032|181.26268727386815|13.372250618630973|\n",
            "| Patient_6| 39|Female|(94.2417651383286...|109.28247014994292|184.71583359322665|12.191969712275403|\n",
            "| Patient_7| 73|  Male|(109.482744992358...| 74.26197953968475|197.10993191044415|14.076346326628594|\n",
            "| Patient_8| 77|  Male|(91.8984348841614...|100.88480255090917| 145.7138873626485|12.404588809191598|\n",
            "| Patient_9| 29|  Male|(88.9282565300655...|120.12949141408708|194.02916120481441|13.539550985927425|\n",
            "|Patient_10| 74|  Male|(95.6944964338510...| 135.0812750292559|165.52241279252934| 15.21782117489467|\n",
            "|Patient_11| 66|Female|(93.4419816540932...| 80.26250039908946|195.70378055572215| 16.81414049152051|\n",
            "|Patient_12| 23|Female|(97.0220788201403...|126.65398260044246|158.33553707797844|17.787883795382946|\n",
            "|Patient_13| 28|Female|(116.673134751756...| 139.4241499053756| 199.6458204007776|15.972491191022254|\n",
            "|Patient_14| 22|Female|(110.664003565392...| 138.2335228752192|126.12260867226308|15.560737077205582|\n",
            "|Patient_15| 21|  Male|(89.5973963554135...|125.33257515243136| 192.8359872166546|15.268370785522414|\n",
            "|Patient_16| 60|  Male|(110.885935304308...|113.61065386271181| 150.4674342017505| 16.25286487032705|\n",
            "|Patient_17| 30|  Male|(106.476347972239...|112.49247044391979| 188.2965951095333|13.859245716588768|\n",
            "|Patient_18| 41|  Male|(91.8110398244896...| 93.72862838439013|188.63143032271904| 16.26615695986358|\n",
            "|Patient_19| 62|  Male|(116.084777172514...|106.11786222808524|  174.111619386649|15.890246039227666|\n",
            "|Patient_20| 53|  Male|(109.379195680619...|  80.1920355033947|189.46265847902697|16.457542023639732|\n",
            "+----------+---+------+--------------------+------------------+------------------+------------------+\n",
            "only showing top 20 rows\n",
            "\n",
            "+------------------+\n",
            "|   avg_sugar_level|\n",
            "+------------------+\n",
            "|105.12550558611343|\n",
            "+------------------+\n",
            "\n",
            "+---------------------+\n",
            "|avg_cholesterol_level|\n",
            "+---------------------+\n",
            "|    162.4406593797263|\n",
            "+---------------------+\n",
            "\n",
            "+---------------------+\n",
            "|avg_haemoglobin_level|\n",
            "+---------------------+\n",
            "|   15.033207386217477|\n",
            "+---------------------+\n",
            "\n"
          ]
        }
      ]
    },
    {
      "cell_type": "code",
      "source": [
        "# Example: Count of patients by gender\n",
        "gender_count = df.groupBy(\"Gender\").count()\n",
        "gender_count.show()\n",
        "\n",
        "# Example: Average age of patients\n",
        "average_age = df.agg({'Age': 'avg'}).collect()[0]\n",
        "print(f\"Average Age: {average_age['avg(Age)']}\")"
      ],
      "metadata": {
        "colab": {
          "base_uri": "https://localhost:8080/"
        },
        "id": "QSZBcGhyLFnU",
        "outputId": "8b65c223-6d30-45e6-bf34-3cc6a5a14a84"
      },
      "execution_count": 3,
      "outputs": [
        {
          "output_type": "stream",
          "name": "stdout",
          "text": [
            "+------+-----+\n",
            "|Gender|count|\n",
            "+------+-----+\n",
            "|Female| 5085|\n",
            "|  Male| 4915|\n",
            "+------+-----+\n",
            "\n",
            "Average Age: 48.9392\n"
          ]
        }
      ]
    },
    {
      "cell_type": "code",
      "source": [
        "# Save statistics to CSV for dashboard\n",
        "statistics = {\n",
        "    'Average Sugar Level': average_sugar_level.collect()[0]['avg_sugar_level'],\n",
        "    'Average Cholesterol Level': average_cholesterol_level.collect()[0]['avg_cholesterol_level'],\n",
        "    'Average Haemoglobin Level': average_haemoglobin_level.collect()[0]['avg_haemoglobin_level'],\n",
        "    'Average Age': average_age['avg(Age)']\n",
        "}\n",
        "\n",
        "# Convert to DataFrame and save\n",
        "stats_df = pd.DataFrame(list(statistics.items()), columns=['Statistic', 'Value'])\n",
        "stats_df.to_csv('statistics.csv', index=False)"
      ],
      "metadata": {
        "id": "_lEMe-vjLIT5"
      },
      "execution_count": 4,
      "outputs": []
    },
    {
      "cell_type": "code",
      "source": [
        "from google.colab import drive\n",
        "drive.mount('/content/drive')"
      ],
      "metadata": {
        "id": "c91C79t3hg7S"
      },
      "execution_count": null,
      "outputs": []
    }
  ]
}
